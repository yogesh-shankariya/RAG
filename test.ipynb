{
 "cells": [
  {
   "cell_type": "code",
   "execution_count": 9,
   "id": "6b6ee134",
   "metadata": {},
   "outputs": [
    {
     "name": "stderr",
     "output_type": "stream",
     "text": [
      "USER_AGENT environment variable not set, consider setting it to identify your requests.\n"
     ]
    }
   ],
   "source": [
    "import yaml\n",
    "from langgraph.graph import StateGraph, END\n",
    "from langgraph.prebuilt import ToolNode\n",
    "from langchain_openai import ChatOpenAI\n",
    "from langchain_core.messages import HumanMessage, AIMessage\n",
    "from langchain_core.prompts import ChatPromptTemplate\n",
    "import json\n",
    "import os\n",
    "from dotenv import load_dotenv\n",
    "from langchain_community.document_loaders import PyPDFLoader, Docx2txtLoader, UnstructuredHTMLLoader\n",
    "from langchain_text_splitters import RecursiveCharacterTextSplitter\n",
    "from langchain_openai import OpenAIEmbeddings\n",
    "from langchain_chroma import Chroma\n",
    "from typing import List\n",
    "from langchain_core.documents import Document\n",
    "import os\n",
    "from langchain.chat_models import init_chat_model\n",
    "from langchain_openai import OpenAIEmbeddings\n",
    "import faiss\n",
    "from langchain_community.docstore.in_memory import InMemoryDocstore\n",
    "from langchain_community.vectorstores import FAISS\n",
    "import bs4\n",
    "from langchain import hub\n",
    "from langchain_community.document_loaders import WebBaseLoader\n",
    "from langchain_core.documents import Document\n",
    "from langchain_text_splitters import RecursiveCharacterTextSplitter\n",
    "from langgraph.graph import START, StateGraph\n",
    "from typing_extensions import List, TypedDict\n",
    "\n",
    "\n",
    "load_dotenv()\n",
    "\n",
    "# Load Prompt from YAML\n",
    "with open(\"prompt.yaml\", \"r\") as f:\n",
    "    prompts = yaml.safe_load(f)"
   ]
  },
  {
   "cell_type": "code",
   "execution_count": 8,
   "id": "e5af2651",
   "metadata": {},
   "outputs": [
    {
     "name": "stdout",
     "output_type": "stream",
     "text": [
      "{'agent_prompt': 'You have access to multiple healthcare-related JSON data sources. Each source contains detailed patient information as described below:\\n\\n1. claims:\\n  Contains healthcare claim details submitted for medical services.\\n  - claimId: Unique identifier of the claim.\\n  - date: Date the claim was filed.\\n  - provider: Healthcare provider (doctor/hospital), anonymized as \"RESTRICTED\".\\n  - status: Approval status of the claim (e.g., Approved, Denied).\\n  - diagnosis: Primary diagnosis associated with the claim.\\n  - charges: Total amount billed.\\n  - paid: Amount paid by insurance.\\n  - claimProvider: Specific provider who submitted the claim.\\n  - problems: List of diagnoses/problems associated with the claim.\\n  - services: Services billed in this claim.\\n\\n2. communications:\\n  Contains patient-provider communications.\\n  - date/contactDate: Date of communication.\\n  - source: Origin/source of communication.\\n  - callDirection: Direction of call (incoming/outgoing).\\n  - callManagerOrOperator: Responsible person.\\n  - contactTypeOrCallType: Nature of communication.\\n  - contactPurpose: Reason for communication.\\n\\n3. denied_pharmacy:\\n  Pharmacy prescription records that were denied or reversed.\\n  - pharmacyName: Pharmacy identification.\\n  - medication: Prescribed drug.\\n  - quantity/daysSupply: Quantity and duration.\\n  - refills: Number of refills prescribed.\\n  - status: Denial/Reversal status.\\n  - instructions: Medication administration details.\\n\\n4. documents:\\n  Clinical document references.\\n  - documentId: Identifier for the document.\\n  - description: Type of clinical document.\\n  - contentUrl: Location to retrieve document.\\n  - providerName: Associated healthcare provider.\\n\\n5. emergency_dept:\\n  Records emergency department visits.\\n  - facilityName: Emergency care facility.\\n  - primaryDiagnosis: Primary reason for visit.\\n  - admissionHour: Admission details.\\n\\n6. immunizations:\\n  Details of administered vaccinations.\\n  - service: Immunization type/name.\\n  - provider: Immunization provider details.\\n\\n7. inPatient_records:\\n  Inpatient hospital admission details.\\n  - admitDate/dischargeDate: Admission and discharge dates.\\n  - facilityName: Hospital details.\\n  - primaryDiagnosis: Reason for hospitalization.\\n\\n8. labs:\\n  Laboratory tests and results.\\n  - observationDate: Date test was done.\\n  - type/value: Test type and result.\\n  - orderingProvider: Provider who ordered test.\\n  - note: Clinical interpretation notes.\\n\\n9. mods:\\n  Durable Medical Equipment (DME) provided.\\n  - service: Type of medical equipment.\\n  - serviceCode: Equipment billing code.\\n\\n10. office_visits:\\n  Outpatient doctor visits.\\n  - provider/specialty: Physician and their specialty.\\n  - primaryDiagnosis: Visit reason.\\n  - service/code: Service and billing code.\\n\\n11. pharmacy:\\n  Approved medication prescriptions.\\n  - medication: Prescribed medication details.\\n  - quantity/refills: Quantity and refill count.\\n  - instructions: Administration instructions.\\n\\n12. authorizations:\\n  Medical authorizations for procedures/treatments.\\n  - authorizationId: Unique identifier.\\n  - diagnosis/diagnosisCode: Related diagnosis details.\\n  - provider: Authorized provider.\\n  - authNumber: Authorization reference number.\\n\\n13. behavirol_health:\\n  Mental and behavioral health records.\\n  - behavioralHealthId: Record identifier.\\n  - primaryDiagnosis: Diagnosed mental/behavioral condition.\\n  - attendingPerformer: Mental health provider.\\n\\nTask:\\n  Based strictly on the user\\'s query, perform one of the following actions:\\n\\n  - If the user\\'s query is conversational (e.g., greetings like hi, hello, general questions not needing data retrieval), directly respond without calling any tool.\\n  - If the user\\'s query requires retrieving data (e.g., \"status of my recent claim\", \"list medications prescribed\"), return only a JSON-formatted list containing relevant JSON names (without file extensions) from the provided sources above.\\n\\nImportant:\\n  - Do NOT include file extensions like \".json\".\\n  - Do NOT derive or infer information beyond these provided sources.\\n  - Respond strictly in a JSON-formatted list when retrieving data sources.\\n\\nExamples:\\n\\n  User query: \"Hello, how are you?\"\\n  Your response: Direct conversational reply (no JSON).\\n\\n  User query: \"What is the status of my recent claim?\"\\n  Your response: [\"claims\"]\\n\\n  User query: \"Provide details about my recent pharmacy prescriptions and denied medications.\"\\n  Your response: [\"pharmacy\", \"denied_pharmacy\"]\\n\\nCarefully follow these instructions for every query.'}\n"
     ]
    }
   ],
   "source": [
    "print(prompts)"
   ]
  },
  {
   "cell_type": "code",
   "execution_count": 10,
   "id": "5c8355cc",
   "metadata": {},
   "outputs": [],
   "source": [
    "llm = init_chat_model(\"gpt-4o\", model_provider=\"openai\")"
   ]
  },
  {
   "cell_type": "code",
   "execution_count": 11,
   "id": "62ec7255",
   "metadata": {},
   "outputs": [
    {
     "data": {
      "text/plain": [
       "AIMessage(content='Hello! How can I assist you today?', additional_kwargs={'refusal': None}, response_metadata={'token_usage': {'completion_tokens': 10, 'prompt_tokens': 8, 'total_tokens': 18, 'completion_tokens_details': {'accepted_prediction_tokens': 0, 'audio_tokens': 0, 'reasoning_tokens': 0, 'rejected_prediction_tokens': 0}, 'prompt_tokens_details': {'audio_tokens': 0, 'cached_tokens': 0}}, 'model_name': 'gpt-4o-2024-08-06', 'system_fingerprint': 'fp_f5bdcc3276', 'id': 'chatcmpl-BORtAkv9jb95c9GKKqLk241MuwjKo', 'finish_reason': 'stop', 'logprobs': None}, id='run-db5224bc-3b89-4ba4-9dde-88eaa304bc46-0', usage_metadata={'input_tokens': 8, 'output_tokens': 10, 'total_tokens': 18, 'input_token_details': {'audio': 0, 'cache_read': 0}, 'output_token_details': {'audio': 0, 'reasoning': 0}})"
      ]
     },
     "execution_count": 11,
     "metadata": {},
     "output_type": "execute_result"
    }
   ],
   "source": [
    "llm.invoke(\"Hi\")"
   ]
  },
  {
   "cell_type": "code",
   "execution_count": 12,
   "id": "9aae393e",
   "metadata": {},
   "outputs": [
    {
     "data": {
      "text/plain": [
       "AIMessage(content=\"I'm unable to access personal data or accounts, including information about the status of any claims. For updates on your recent claim, please contact the relevant company or organization directly through their customer service or online portal.\", additional_kwargs={'refusal': None}, response_metadata={'token_usage': {'completion_tokens': 42, 'prompt_tokens': 16, 'total_tokens': 58, 'completion_tokens_details': {'accepted_prediction_tokens': 0, 'audio_tokens': 0, 'reasoning_tokens': 0, 'rejected_prediction_tokens': 0}, 'prompt_tokens_details': {'audio_tokens': 0, 'cached_tokens': 0}}, 'model_name': 'gpt-4o-2024-08-06', 'system_fingerprint': 'fp_f5bdcc3276', 'id': 'chatcmpl-BORtRL1GtqO6x5TTxVFPnh7OFgmwg', 'finish_reason': 'stop', 'logprobs': None}, id='run-22e40a86-0c5d-431e-8148-9160cee674b6-0', usage_metadata={'input_tokens': 16, 'output_tokens': 42, 'total_tokens': 58, 'input_token_details': {'audio': 0, 'cache_read': 0}, 'output_token_details': {'audio': 0, 'reasoning': 0}})"
      ]
     },
     "execution_count": 12,
     "metadata": {},
     "output_type": "execute_result"
    }
   ],
   "source": [
    "llm.invoke(\"What is the status of my recent claim?\")"
   ]
  },
  {
   "cell_type": "code",
   "execution_count": 16,
   "id": "f8197c0b",
   "metadata": {},
   "outputs": [],
   "source": [
    "message = {}\n",
    "message[\"System Message\"] = prompts\n",
    "message[\"User\"] = \"HI\""
   ]
  },
  {
   "cell_type": "code",
   "execution_count": 17,
   "id": "af435dbc",
   "metadata": {},
   "outputs": [
    {
     "data": {
      "text/plain": [
       "{'System Message': {'agent_prompt': 'You have access to multiple healthcare-related JSON data sources. Each source contains detailed patient information as described below:\\n\\n1. claims:\\n  Contains healthcare claim details submitted for medical services.\\n  - claimId: Unique identifier of the claim.\\n  - date: Date the claim was filed.\\n  - provider: Healthcare provider (doctor/hospital), anonymized as \"RESTRICTED\".\\n  - status: Approval status of the claim (e.g., Approved, Denied).\\n  - diagnosis: Primary diagnosis associated with the claim.\\n  - charges: Total amount billed.\\n  - paid: Amount paid by insurance.\\n  - claimProvider: Specific provider who submitted the claim.\\n  - problems: List of diagnoses/problems associated with the claim.\\n  - services: Services billed in this claim.\\n\\n2. communications:\\n  Contains patient-provider communications.\\n  - date/contactDate: Date of communication.\\n  - source: Origin/source of communication.\\n  - callDirection: Direction of call (incoming/outgoing).\\n  - callManagerOrOperator: Responsible person.\\n  - contactTypeOrCallType: Nature of communication.\\n  - contactPurpose: Reason for communication.\\n\\n3. denied_pharmacy:\\n  Pharmacy prescription records that were denied or reversed.\\n  - pharmacyName: Pharmacy identification.\\n  - medication: Prescribed drug.\\n  - quantity/daysSupply: Quantity and duration.\\n  - refills: Number of refills prescribed.\\n  - status: Denial/Reversal status.\\n  - instructions: Medication administration details.\\n\\n4. documents:\\n  Clinical document references.\\n  - documentId: Identifier for the document.\\n  - description: Type of clinical document.\\n  - contentUrl: Location to retrieve document.\\n  - providerName: Associated healthcare provider.\\n\\n5. emergency_dept:\\n  Records emergency department visits.\\n  - facilityName: Emergency care facility.\\n  - primaryDiagnosis: Primary reason for visit.\\n  - admissionHour: Admission details.\\n\\n6. immunizations:\\n  Details of administered vaccinations.\\n  - service: Immunization type/name.\\n  - provider: Immunization provider details.\\n\\n7. inPatient_records:\\n  Inpatient hospital admission details.\\n  - admitDate/dischargeDate: Admission and discharge dates.\\n  - facilityName: Hospital details.\\n  - primaryDiagnosis: Reason for hospitalization.\\n\\n8. labs:\\n  Laboratory tests and results.\\n  - observationDate: Date test was done.\\n  - type/value: Test type and result.\\n  - orderingProvider: Provider who ordered test.\\n  - note: Clinical interpretation notes.\\n\\n9. mods:\\n  Durable Medical Equipment (DME) provided.\\n  - service: Type of medical equipment.\\n  - serviceCode: Equipment billing code.\\n\\n10. office_visits:\\n  Outpatient doctor visits.\\n  - provider/specialty: Physician and their specialty.\\n  - primaryDiagnosis: Visit reason.\\n  - service/code: Service and billing code.\\n\\n11. pharmacy:\\n  Approved medication prescriptions.\\n  - medication: Prescribed medication details.\\n  - quantity/refills: Quantity and refill count.\\n  - instructions: Administration instructions.\\n\\n12. authorizations:\\n  Medical authorizations for procedures/treatments.\\n  - authorizationId: Unique identifier.\\n  - diagnosis/diagnosisCode: Related diagnosis details.\\n  - provider: Authorized provider.\\n  - authNumber: Authorization reference number.\\n\\n13. behavirol_health:\\n  Mental and behavioral health records.\\n  - behavioralHealthId: Record identifier.\\n  - primaryDiagnosis: Diagnosed mental/behavioral condition.\\n  - attendingPerformer: Mental health provider.\\n\\nTask:\\n  Based strictly on the user\\'s query, perform one of the following actions:\\n\\n  - If the user\\'s query is conversational (e.g., greetings like hi, hello, general questions not needing data retrieval), directly respond without calling any tool.\\n  - If the user\\'s query requires retrieving data (e.g., \"status of my recent claim\", \"list medications prescribed\"), return only a JSON-formatted list containing relevant JSON names (without file extensions) from the provided sources above.\\n\\nImportant:\\n  - Do NOT include file extensions like \".json\".\\n  - Do NOT derive or infer information beyond these provided sources.\\n  - Respond strictly in a JSON-formatted list when retrieving data sources.\\n\\nExamples:\\n\\n  User query: \"Hello, how are you?\"\\n  Your response: Direct conversational reply (no JSON).\\n\\n  User query: \"What is the status of my recent claim?\"\\n  Your response: [\"claims\"]\\n\\n  User query: \"Provide details about my recent pharmacy prescriptions and denied medications.\"\\n  Your response: [\"pharmacy\", \"denied_pharmacy\"]\\n\\nCarefully follow these instructions for every query.'},\n",
       " 'User': 'HI'}"
      ]
     },
     "execution_count": 17,
     "metadata": {},
     "output_type": "execute_result"
    }
   ],
   "source": [
    "message"
   ]
  },
  {
   "cell_type": "code",
   "execution_count": 24,
   "id": "d6ec1380",
   "metadata": {},
   "outputs": [
    {
     "name": "stdout",
     "output_type": "stream",
     "text": [
      "[\"emergency_dept\", \"office_visits\"]\n"
     ]
    }
   ],
   "source": [
    "from langchain_core.prompts import ChatPromptTemplate\n",
    "from langchain_core.output_parsers import StrOutputParser\n",
    "from langchain.chat_models import init_chat_model\n",
    "\n",
    "# Step 1: Initialize LLM\n",
    "llm = init_chat_model(\"gpt-4o\", model_provider=\"openai\")\n",
    "\n",
    "# Step 2: Extract string from dictionary\n",
    "prompt_text = prompts[\"agent_prompt\"]  # <- fix: don't pass full dict\n",
    "\n",
    "# Step 3: Create prompt template\n",
    "prompt = ChatPromptTemplate.from_messages([\n",
    "    (\"system\", prompt_text),\n",
    "    (\"human\", \"{input}\")\n",
    "])\n",
    "\n",
    "# Step 4: Chain and test\n",
    "chain = prompt | llm | StrOutputParser()\n",
    "\n",
    "# Step 5: Try it\n",
    "response = chain.invoke({\"input\": \"any pcp visit after er?\"})\n",
    "print(response)\n"
   ]
  },
  {
   "cell_type": "code",
   "execution_count": 25,
   "id": "6e3c1bbe",
   "metadata": {},
   "outputs": [
    {
     "name": "stdout",
     "output_type": "stream",
     "text": [
      "[\"inPatient_records\"]\n"
     ]
    }
   ],
   "source": [
    "response = chain.invoke({\"input\": \"What was my recent discharge date?\"})\n",
    "print(response)"
   ]
  },
  {
   "cell_type": "code",
   "execution_count": 26,
   "id": "1385a349",
   "metadata": {},
   "outputs": [
    {
     "name": "stdout",
     "output_type": "stream",
     "text": [
      "I'm just a program, but I'm here to help you with your healthcare data queries. How can I assist you today?\n"
     ]
    }
   ],
   "source": [
    "response = chain.invoke({\"input\": \"How are you?\"})\n",
    "print(response)"
   ]
  },
  {
   "cell_type": "code",
   "execution_count": null,
   "id": "8d8c0a22",
   "metadata": {},
   "outputs": [],
   "source": [
    "import yaml\n",
    "from langgraph.graph import StateGraph, END\n",
    "from langgraph.prebuilt import ToolNode\n",
    "from langchain_openai import ChatOpenAI\n",
    "from langchain_core.messages import HumanMessage, AIMessage\n",
    "from langchain_core.prompts import ChatPromptTemplate\n",
    "from tools import retrieve\n",
    "import json\n",
    "\n",
    "# Load Prompt from YAML\n",
    "with open(\"prompt.yaml\", \"r\") as f:\n",
    "    prompts = yaml.safe_load(f)\n",
    "\n",
    "# Initialize the LLM\n",
    "llm = init_chat_model(\"gpt-4o\", model_provider=\"openai\")\n",
    "\n",
    "# Define Prompt Template\n",
    "prompt_template = ChatPromptTemplate.from_template(prompts[\"agent_prompt\"])\n",
    "\n",
    "# Define the Agent Node (LLM)\n",
    "def agent(state):\n",
    "    messages = state[\"messages\"]\n",
    "    response = llm.invoke(messages)\n",
    "    content = response.content.strip()\n",
    "\n",
    "    # Check if action is needed (JSON array of sources)\n",
    "    try:\n",
    "        sources = json.loads(content)\n",
    "        if isinstance(sources, list):\n",
    "            return {\"sources\": sources, \"messages\": messages}\n",
    "    except json.JSONDecodeError:\n",
    "        pass\n",
    "\n",
    "    # Otherwise, direct response\n",
    "    messages.append(AIMessage(content=content))\n",
    "    return {\"messages\": messages}\n",
    "\n",
    "# Define the Tool Retrieval Node\n",
    "def retrieval_node(state):\n",
    "    sources = state[\"sources\"]\n",
    "    retrieval_result = retrieve.invoke(sources)\n",
    "    messages = state[\"messages\"]\n",
    "    messages.append(HumanMessage(content=retrieval_result))\n",
    "    return {\"messages\": messages}\n",
    "\n",
    "# State Graph Setup\n",
    "graph = StateGraph(schema={\"messages\": list, \"sources\": list})\n",
    "\n",
    "# Nodes setup\n",
    "graph.add_node(\"agent\", agent)\n",
    "graph.add_node(\"retriever\", retrieval_node)\n",
    "\n",
    "# Edges & Logic\n",
    "graph.set_entry_point(\"agent\")\n",
    "\n",
    "# Routing logic\n",
    "def route(state):\n",
    "    if \"sources\" in state:\n",
    "        return \"retriever\"\n",
    "    return END\n",
    "\n",
    "graph.add_conditional_edges(\"agent\", route, {\"retriever\": \"retriever\", END: END})\n",
    "graph.add_edge(\"retriever\", END)\n",
    "\n",
    "# Compile the graph\n",
    "app = graph.compile()\n",
    "\n",
    "# Function to interact with the agent\n",
    "def chat_with_agent(query):\n",
    "    inputs = {\"messages\": [HumanMessage(content=query)]}\n",
    "    final_state = app.invoke(inputs)\n",
    "    messages = final_state[\"messages\"]\n",
    "    for msg in messages:\n",
    "        if isinstance(msg, AIMessage):\n",
    "            print(f\"Assistant:\\n{msg.content}\\n\")\n",
    "\n",
    "# Example interactions:\n",
    "if __name__ == \"__main__\":\n",
    "    # Conversational example\n",
    "    chat_with_agent(\"Hello!\")\n",
    "\n",
    "    # Retrieval example\n",
    "    chat_with_agent(\"What's the status of my recent claim?\")\n"
   ]
  }
 ],
 "metadata": {
  "kernelspec": {
   "display_name": "Python 3",
   "language": "python",
   "name": "python3"
  },
  "language_info": {
   "codemirror_mode": {
    "name": "ipython",
    "version": 3
   },
   "file_extension": ".py",
   "mimetype": "text/x-python",
   "name": "python",
   "nbconvert_exporter": "python",
   "pygments_lexer": "ipython3",
   "version": "3.12.0"
  }
 },
 "nbformat": 4,
 "nbformat_minor": 5
}
